{
 "cells": [
  {
   "cell_type": "code",
   "execution_count": 8,
   "metadata": {},
   "outputs": [],
   "source": [
    "import pandas as pd\n",
    "import numpy as np\n",
    "import seaborn as sns\n",
    "import matplotlib.pyplot as plt\n",
    "import warnings\n",
    "warnings.filterwarnings('ignore')"
   ]
  },
  {
   "cell_type": "code",
   "execution_count": 84,
   "metadata": {},
   "outputs": [],
   "source": [
    "from sklearn.model_selection import train_test_split\n",
    "from sklearn.linear_model import LinearRegression\n",
    "from sklearn.metrics import mean_squared_error, r2_score"
   ]
  },
  {
   "cell_type": "code",
   "execution_count": 3,
   "metadata": {},
   "outputs": [],
   "source": [
    "data = pd.read_csv(\"1000 Records.csv\")"
   ]
  },
  {
   "cell_type": "code",
   "execution_count": 5,
   "metadata": {},
   "outputs": [
    {
     "data": {
      "text/html": [
       "<div>\n",
       "<style scoped>\n",
       "    .dataframe tbody tr th:only-of-type {\n",
       "        vertical-align: middle;\n",
       "    }\n",
       "\n",
       "    .dataframe tbody tr th {\n",
       "        vertical-align: top;\n",
       "    }\n",
       "\n",
       "    .dataframe thead th {\n",
       "        text-align: right;\n",
       "    }\n",
       "</style>\n",
       "<table border=\"1\" class=\"dataframe\">\n",
       "  <thead>\n",
       "    <tr style=\"text-align: right;\">\n",
       "      <th></th>\n",
       "      <th>Emp ID</th>\n",
       "      <th>Name Prefix</th>\n",
       "      <th>First Name</th>\n",
       "      <th>Middle Initial</th>\n",
       "      <th>Last Name</th>\n",
       "      <th>Gender</th>\n",
       "      <th>E Mail</th>\n",
       "      <th>Father's Name</th>\n",
       "      <th>Mother's Name</th>\n",
       "      <th>Mother's Maiden Name</th>\n",
       "      <th>...</th>\n",
       "      <th>SSN</th>\n",
       "      <th>Phone No.</th>\n",
       "      <th>Place Name</th>\n",
       "      <th>County</th>\n",
       "      <th>City</th>\n",
       "      <th>State</th>\n",
       "      <th>Zip</th>\n",
       "      <th>Region</th>\n",
       "      <th>User Name</th>\n",
       "      <th>Password</th>\n",
       "    </tr>\n",
       "  </thead>\n",
       "  <tbody>\n",
       "    <tr>\n",
       "      <th>0</th>\n",
       "      <td>850297</td>\n",
       "      <td>Ms.</td>\n",
       "      <td>Shawna</td>\n",
       "      <td>W</td>\n",
       "      <td>Buck</td>\n",
       "      <td>F</td>\n",
       "      <td>shawna.buck@gmail.com</td>\n",
       "      <td>Rosario Buck</td>\n",
       "      <td>Keisha Buck</td>\n",
       "      <td>Hendricks</td>\n",
       "      <td>...</td>\n",
       "      <td>222-11-7603</td>\n",
       "      <td>702-771-7149</td>\n",
       "      <td>Las Vegas</td>\n",
       "      <td>Clark</td>\n",
       "      <td>Las Vegas</td>\n",
       "      <td>NV</td>\n",
       "      <td>89128</td>\n",
       "      <td>West</td>\n",
       "      <td>swbuck</td>\n",
       "      <td>ja8?k3BTF^]o@&lt;&amp;</td>\n",
       "    </tr>\n",
       "    <tr>\n",
       "      <th>1</th>\n",
       "      <td>304721</td>\n",
       "      <td>Mr.</td>\n",
       "      <td>Nathaniel</td>\n",
       "      <td>Z</td>\n",
       "      <td>Burke</td>\n",
       "      <td>M</td>\n",
       "      <td>nathaniel.burke@walmart.com</td>\n",
       "      <td>Derrick Burke</td>\n",
       "      <td>Phoebe Burke</td>\n",
       "      <td>Pugh</td>\n",
       "      <td>...</td>\n",
       "      <td>550-99-9897</td>\n",
       "      <td>231-765-6923</td>\n",
       "      <td>Irons</td>\n",
       "      <td>Lake</td>\n",
       "      <td>Irons</td>\n",
       "      <td>MI</td>\n",
       "      <td>49644</td>\n",
       "      <td>Midwest</td>\n",
       "      <td>nzburke</td>\n",
       "      <td>tPA@4Wh9Ja$+Ln</td>\n",
       "    </tr>\n",
       "    <tr>\n",
       "      <th>2</th>\n",
       "      <td>412317</td>\n",
       "      <td>Drs.</td>\n",
       "      <td>Elisabeth</td>\n",
       "      <td>W</td>\n",
       "      <td>Foster</td>\n",
       "      <td>F</td>\n",
       "      <td>elisabeth.foster@gmail.com</td>\n",
       "      <td>Irwin Foster</td>\n",
       "      <td>Janie Foster</td>\n",
       "      <td>Delaney</td>\n",
       "      <td>...</td>\n",
       "      <td>215-91-0004</td>\n",
       "      <td>270-749-4774</td>\n",
       "      <td>Lexington</td>\n",
       "      <td>Fayette</td>\n",
       "      <td>Lexington</td>\n",
       "      <td>KY</td>\n",
       "      <td>40501</td>\n",
       "      <td>South</td>\n",
       "      <td>ewfoster</td>\n",
       "      <td>5D.B4IGNkWJfG&lt;~</td>\n",
       "    </tr>\n",
       "    <tr>\n",
       "      <th>3</th>\n",
       "      <td>621375</td>\n",
       "      <td>Mrs.</td>\n",
       "      <td>Briana</td>\n",
       "      <td>C</td>\n",
       "      <td>Lancaster</td>\n",
       "      <td>F</td>\n",
       "      <td>briana.lancaster@yahoo.com</td>\n",
       "      <td>Jeffrey Lancaster</td>\n",
       "      <td>Shelby Lancaster</td>\n",
       "      <td>Weiss</td>\n",
       "      <td>...</td>\n",
       "      <td>534-71-1053</td>\n",
       "      <td>219-623-8216</td>\n",
       "      <td>Munster</td>\n",
       "      <td>Lake</td>\n",
       "      <td>Munster</td>\n",
       "      <td>IN</td>\n",
       "      <td>46321</td>\n",
       "      <td>Midwest</td>\n",
       "      <td>bclancaster</td>\n",
       "      <td>I%?JDM;pW</td>\n",
       "    </tr>\n",
       "    <tr>\n",
       "      <th>4</th>\n",
       "      <td>787549</td>\n",
       "      <td>Hon.</td>\n",
       "      <td>Estella</td>\n",
       "      <td>L</td>\n",
       "      <td>Potter</td>\n",
       "      <td>F</td>\n",
       "      <td>estella.potter@gmail.com</td>\n",
       "      <td>Booker Potter</td>\n",
       "      <td>Katelyn Potter</td>\n",
       "      <td>Pate</td>\n",
       "      <td>...</td>\n",
       "      <td>644-29-6396</td>\n",
       "      <td>907-677-8486</td>\n",
       "      <td>Fairbanks</td>\n",
       "      <td>Fairbanks North Star</td>\n",
       "      <td>Fairbanks</td>\n",
       "      <td>AK</td>\n",
       "      <td>99709</td>\n",
       "      <td>West</td>\n",
       "      <td>elpotter</td>\n",
       "      <td>j4jkEXfC&amp;Rh</td>\n",
       "    </tr>\n",
       "  </tbody>\n",
       "</table>\n",
       "<p>5 rows × 37 columns</p>\n",
       "</div>"
      ],
      "text/plain": [
       "   Emp ID Name Prefix First Name Middle Initial  Last Name Gender  \\\n",
       "0  850297         Ms.     Shawna              W       Buck      F   \n",
       "1  304721         Mr.  Nathaniel              Z      Burke      M   \n",
       "2  412317        Drs.  Elisabeth              W     Foster      F   \n",
       "3  621375        Mrs.     Briana              C  Lancaster      F   \n",
       "4  787549        Hon.    Estella              L     Potter      F   \n",
       "\n",
       "                        E Mail      Father's Name     Mother's Name  \\\n",
       "0        shawna.buck@gmail.com       Rosario Buck       Keisha Buck   \n",
       "1  nathaniel.burke@walmart.com      Derrick Burke      Phoebe Burke   \n",
       "2   elisabeth.foster@gmail.com       Irwin Foster      Janie Foster   \n",
       "3   briana.lancaster@yahoo.com  Jeffrey Lancaster  Shelby Lancaster   \n",
       "4     estella.potter@gmail.com      Booker Potter    Katelyn Potter   \n",
       "\n",
       "  Mother's Maiden Name  ...          SSN    Phone No.   Place Name  \\\n",
       "0            Hendricks  ...  222-11-7603  702-771-7149   Las Vegas   \n",
       "1                 Pugh  ...  550-99-9897  231-765-6923       Irons   \n",
       "2              Delaney  ...  215-91-0004  270-749-4774   Lexington   \n",
       "3                Weiss  ...  534-71-1053  219-623-8216     Munster   \n",
       "4                 Pate  ...  644-29-6396  907-677-8486   Fairbanks   \n",
       "\n",
       "                 County       City State    Zip   Region    User Name  \\\n",
       "0                 Clark  Las Vegas    NV  89128     West       swbuck   \n",
       "1                  Lake      Irons    MI  49644  Midwest      nzburke   \n",
       "2               Fayette  Lexington    KY  40501    South     ewfoster   \n",
       "3                  Lake    Munster    IN  46321  Midwest  bclancaster   \n",
       "4  Fairbanks North Star  Fairbanks    AK  99709     West     elpotter   \n",
       "\n",
       "          Password  \n",
       "0  ja8?k3BTF^]o@<&  \n",
       "1   tPA@4Wh9Ja$+Ln  \n",
       "2  5D.B4IGNkWJfG<~  \n",
       "3        I%?JDM;pW  \n",
       "4      j4jkEXfC&Rh  \n",
       "\n",
       "[5 rows x 37 columns]"
      ]
     },
     "execution_count": 5,
     "metadata": {},
     "output_type": "execute_result"
    }
   ],
   "source": [
    "data.head()"
   ]
  },
  {
   "cell_type": "code",
   "execution_count": 6,
   "metadata": {},
   "outputs": [
    {
     "name": "stdout",
     "output_type": "stream",
     "text": [
      "(1000, 37)\n"
     ]
    }
   ],
   "source": [
    "print(data.shape)"
   ]
  },
  {
   "cell_type": "code",
   "execution_count": 10,
   "metadata": {},
   "outputs": [
    {
     "data": {
      "text/plain": [
       "Emp ID                      int64\n",
       "Name Prefix                object\n",
       "First Name                 object\n",
       "Middle Initial             object\n",
       "Last Name                  object\n",
       "Gender                     object\n",
       "E Mail                     object\n",
       "Father's Name              object\n",
       "Mother's Name              object\n",
       "Mother's Maiden Name       object\n",
       "Date of Birth              object\n",
       "Time of Birth              object\n",
       "Age in Yrs.               float64\n",
       "Weight in Kgs.              int64\n",
       "Date of Joining            object\n",
       "Quarter of Joining         object\n",
       "Half of Joining            object\n",
       "Year of Joining             int64\n",
       "Month of Joining            int64\n",
       "Month Name of Joining      object\n",
       "Short Month                object\n",
       "Day of Joining              int64\n",
       "DOW of Joining             object\n",
       "Short DOW                  object\n",
       "Age in Company (Years)    float64\n",
       "Salary                      int64\n",
       "Last % Hike                object\n",
       "SSN                        object\n",
       "Phone No.                  object\n",
       "Place Name                 object\n",
       "County                     object\n",
       "City                       object\n",
       "State                      object\n",
       "Zip                         int64\n",
       "Region                     object\n",
       "User Name                  object\n",
       "Password                   object\n",
       "dtype: object"
      ]
     },
     "execution_count": 10,
     "metadata": {},
     "output_type": "execute_result"
    }
   ],
   "source": [
    "data.dtypes"
   ]
  },
  {
   "cell_type": "code",
   "execution_count": 7,
   "metadata": {},
   "outputs": [
    {
     "data": {
      "text/html": [
       "<div>\n",
       "<style scoped>\n",
       "    .dataframe tbody tr th:only-of-type {\n",
       "        vertical-align: middle;\n",
       "    }\n",
       "\n",
       "    .dataframe tbody tr th {\n",
       "        vertical-align: top;\n",
       "    }\n",
       "\n",
       "    .dataframe thead th {\n",
       "        text-align: right;\n",
       "    }\n",
       "</style>\n",
       "<table border=\"1\" class=\"dataframe\">\n",
       "  <thead>\n",
       "    <tr style=\"text-align: right;\">\n",
       "      <th></th>\n",
       "      <th>Emp ID</th>\n",
       "      <th>Age in Yrs.</th>\n",
       "      <th>Weight in Kgs.</th>\n",
       "      <th>Year of Joining</th>\n",
       "      <th>Month of Joining</th>\n",
       "      <th>Day of Joining</th>\n",
       "      <th>Age in Company (Years)</th>\n",
       "      <th>Salary</th>\n",
       "      <th>Zip</th>\n",
       "    </tr>\n",
       "  </thead>\n",
       "  <tbody>\n",
       "    <tr>\n",
       "      <th>count</th>\n",
       "      <td>1000.000000</td>\n",
       "      <td>1000.000000</td>\n",
       "      <td>1000.000000</td>\n",
       "      <td>1000.000000</td>\n",
       "      <td>1000.000000</td>\n",
       "      <td>1000.000000</td>\n",
       "      <td>1000.000000</td>\n",
       "      <td>1000.000000</td>\n",
       "      <td>1000.000000</td>\n",
       "    </tr>\n",
       "    <tr>\n",
       "      <th>mean</th>\n",
       "      <td>549097.583000</td>\n",
       "      <td>40.377250</td>\n",
       "      <td>59.409000</td>\n",
       "      <td>2006.992000</td>\n",
       "      <td>6.415000</td>\n",
       "      <td>16.481000</td>\n",
       "      <td>10.093720</td>\n",
       "      <td>120288.528000</td>\n",
       "      <td>48698.499000</td>\n",
       "    </tr>\n",
       "    <tr>\n",
       "      <th>std</th>\n",
       "      <td>264810.879315</td>\n",
       "      <td>11.107729</td>\n",
       "      <td>13.900322</td>\n",
       "      <td>8.565588</td>\n",
       "      <td>3.428488</td>\n",
       "      <td>8.831514</td>\n",
       "      <td>8.568863</td>\n",
       "      <td>45178.339916</td>\n",
       "      <td>27396.021481</td>\n",
       "    </tr>\n",
       "    <tr>\n",
       "      <th>min</th>\n",
       "      <td>114425.000000</td>\n",
       "      <td>21.040000</td>\n",
       "      <td>40.000000</td>\n",
       "      <td>1980.000000</td>\n",
       "      <td>1.000000</td>\n",
       "      <td>1.000000</td>\n",
       "      <td>0.000000</td>\n",
       "      <td>40040.000000</td>\n",
       "      <td>1002.000000</td>\n",
       "    </tr>\n",
       "    <tr>\n",
       "      <th>25%</th>\n",
       "      <td>307757.000000</td>\n",
       "      <td>30.925000</td>\n",
       "      <td>49.000000</td>\n",
       "      <td>2002.000000</td>\n",
       "      <td>4.000000</td>\n",
       "      <td>9.000000</td>\n",
       "      <td>3.152500</td>\n",
       "      <td>82122.000000</td>\n",
       "      <td>25421.750000</td>\n",
       "    </tr>\n",
       "    <tr>\n",
       "      <th>50%</th>\n",
       "      <td>543073.000000</td>\n",
       "      <td>40.730000</td>\n",
       "      <td>57.000000</td>\n",
       "      <td>2009.000000</td>\n",
       "      <td>6.000000</td>\n",
       "      <td>17.000000</td>\n",
       "      <td>7.815000</td>\n",
       "      <td>119409.000000</td>\n",
       "      <td>47416.500000</td>\n",
       "    </tr>\n",
       "    <tr>\n",
       "      <th>75%</th>\n",
       "      <td>788450.250000</td>\n",
       "      <td>49.852500</td>\n",
       "      <td>68.000000</td>\n",
       "      <td>2014.000000</td>\n",
       "      <td>10.000000</td>\n",
       "      <td>24.000000</td>\n",
       "      <td>15.465000</td>\n",
       "      <td>159109.000000</td>\n",
       "      <td>71101.000000</td>\n",
       "    </tr>\n",
       "    <tr>\n",
       "      <th>max</th>\n",
       "      <td>999475.000000</td>\n",
       "      <td>59.980000</td>\n",
       "      <td>90.000000</td>\n",
       "      <td>2017.000000</td>\n",
       "      <td>12.000000</td>\n",
       "      <td>31.000000</td>\n",
       "      <td>37.570000</td>\n",
       "      <td>199943.000000</td>\n",
       "      <td>99791.000000</td>\n",
       "    </tr>\n",
       "  </tbody>\n",
       "</table>\n",
       "</div>"
      ],
      "text/plain": [
       "              Emp ID  Age in Yrs.  Weight in Kgs.  Year of Joining  \\\n",
       "count    1000.000000  1000.000000     1000.000000      1000.000000   \n",
       "mean   549097.583000    40.377250       59.409000      2006.992000   \n",
       "std    264810.879315    11.107729       13.900322         8.565588   \n",
       "min    114425.000000    21.040000       40.000000      1980.000000   \n",
       "25%    307757.000000    30.925000       49.000000      2002.000000   \n",
       "50%    543073.000000    40.730000       57.000000      2009.000000   \n",
       "75%    788450.250000    49.852500       68.000000      2014.000000   \n",
       "max    999475.000000    59.980000       90.000000      2017.000000   \n",
       "\n",
       "       Month of Joining  Day of Joining  Age in Company (Years)  \\\n",
       "count       1000.000000     1000.000000             1000.000000   \n",
       "mean           6.415000       16.481000               10.093720   \n",
       "std            3.428488        8.831514                8.568863   \n",
       "min            1.000000        1.000000                0.000000   \n",
       "25%            4.000000        9.000000                3.152500   \n",
       "50%            6.000000       17.000000                7.815000   \n",
       "75%           10.000000       24.000000               15.465000   \n",
       "max           12.000000       31.000000               37.570000   \n",
       "\n",
       "              Salary           Zip  \n",
       "count    1000.000000   1000.000000  \n",
       "mean   120288.528000  48698.499000  \n",
       "std     45178.339916  27396.021481  \n",
       "min     40040.000000   1002.000000  \n",
       "25%     82122.000000  25421.750000  \n",
       "50%    119409.000000  47416.500000  \n",
       "75%    159109.000000  71101.000000  \n",
       "max    199943.000000  99791.000000  "
      ]
     },
     "execution_count": 7,
     "metadata": {},
     "output_type": "execute_result"
    }
   ],
   "source": [
    "data.describe()"
   ]
  },
  {
   "cell_type": "markdown",
   "metadata": {},
   "source": [
    "There are no missing Values --- Count is 1000 in all the columns"
   ]
  },
  {
   "cell_type": "code",
   "execution_count": 13,
   "metadata": {},
   "outputs": [
    {
     "data": {
      "text/plain": [
       "<matplotlib.axes._subplots.AxesSubplot at 0x1d2e7b20220>"
      ]
     },
     "execution_count": 13,
     "metadata": {},
     "output_type": "execute_result"
    },
    {
     "data": {
      "image/png": "[encoded data removed]",
      "text/plain": [
       "<Figure size 432x288 with 2 Axes>"
      ]
     },
     "metadata": {
      "needs_background": "light"
     },
     "output_type": "display_data"
    }
   ],
   "source": [
    "sns.heatmap(data.isnull())"
   ]
  },
  {
   "cell_type": "markdown",
   "metadata": {},
   "source": [
    "Further proved by this heatmap"
   ]
  },
  {
   "cell_type": "markdown",
   "metadata": {},
   "source": [
    "### Checking Corelation Between columns "
   ]
  },
  {
   "cell_type": "code",
   "execution_count": 14,
   "metadata": {},
   "outputs": [
    {
     "data": {
      "text/html": [
       "<div>\n",
       "<style scoped>\n",
       "    .dataframe tbody tr th:only-of-type {\n",
       "        vertical-align: middle;\n",
       "    }\n",
       "\n",
       "    .dataframe tbody tr th {\n",
       "        vertical-align: top;\n",
       "    }\n",
       "\n",
       "    .dataframe thead th {\n",
       "        text-align: right;\n",
       "    }\n",
       "</style>\n",
       "<table border=\"1\" class=\"dataframe\">\n",
       "  <thead>\n",
       "    <tr style=\"text-align: right;\">\n",
       "      <th></th>\n",
       "      <th>Emp ID</th>\n",
       "      <th>Age in Yrs.</th>\n",
       "      <th>Weight in Kgs.</th>\n",
       "      <th>Year of Joining</th>\n",
       "      <th>Month of Joining</th>\n",
       "      <th>Day of Joining</th>\n",
       "      <th>Age in Company (Years)</th>\n",
       "      <th>Salary</th>\n",
       "      <th>Zip</th>\n",
       "    </tr>\n",
       "  </thead>\n",
       "  <tbody>\n",
       "    <tr>\n",
       "      <th>Emp ID</th>\n",
       "      <td>1.000000</td>\n",
       "      <td>-0.028516</td>\n",
       "      <td>0.028175</td>\n",
       "      <td>0.039009</td>\n",
       "      <td>0.000999</td>\n",
       "      <td>0.006178</td>\n",
       "      <td>-0.039064</td>\n",
       "      <td>-0.027248</td>\n",
       "      <td>0.020033</td>\n",
       "    </tr>\n",
       "    <tr>\n",
       "      <th>Age in Yrs.</th>\n",
       "      <td>-0.028516</td>\n",
       "      <td>1.000000</td>\n",
       "      <td>-0.065656</td>\n",
       "      <td>-0.676875</td>\n",
       "      <td>0.022617</td>\n",
       "      <td>-0.026387</td>\n",
       "      <td>0.676408</td>\n",
       "      <td>0.041422</td>\n",
       "      <td>-0.017266</td>\n",
       "    </tr>\n",
       "    <tr>\n",
       "      <th>Weight in Kgs.</th>\n",
       "      <td>0.028175</td>\n",
       "      <td>-0.065656</td>\n",
       "      <td>1.000000</td>\n",
       "      <td>0.058794</td>\n",
       "      <td>0.003933</td>\n",
       "      <td>-0.038591</td>\n",
       "      <td>-0.058846</td>\n",
       "      <td>0.061088</td>\n",
       "      <td>-0.021019</td>\n",
       "    </tr>\n",
       "    <tr>\n",
       "      <th>Year of Joining</th>\n",
       "      <td>0.039009</td>\n",
       "      <td>-0.676875</td>\n",
       "      <td>0.058794</td>\n",
       "      <td>1.000000</td>\n",
       "      <td>-0.029644</td>\n",
       "      <td>0.040820</td>\n",
       "      <td>-0.999435</td>\n",
       "      <td>-0.053501</td>\n",
       "      <td>0.027221</td>\n",
       "    </tr>\n",
       "    <tr>\n",
       "      <th>Month of Joining</th>\n",
       "      <td>0.000999</td>\n",
       "      <td>0.022617</td>\n",
       "      <td>0.003933</td>\n",
       "      <td>-0.029644</td>\n",
       "      <td>1.000000</td>\n",
       "      <td>0.046362</td>\n",
       "      <td>-0.003848</td>\n",
       "      <td>-0.019298</td>\n",
       "      <td>-0.028749</td>\n",
       "    </tr>\n",
       "    <tr>\n",
       "      <th>Day of Joining</th>\n",
       "      <td>0.006178</td>\n",
       "      <td>-0.026387</td>\n",
       "      <td>-0.038591</td>\n",
       "      <td>0.040820</td>\n",
       "      <td>0.046362</td>\n",
       "      <td>1.000000</td>\n",
       "      <td>-0.045185</td>\n",
       "      <td>-0.018947</td>\n",
       "      <td>0.028209</td>\n",
       "    </tr>\n",
       "    <tr>\n",
       "      <th>Age in Company (Years)</th>\n",
       "      <td>-0.039064</td>\n",
       "      <td>0.676408</td>\n",
       "      <td>-0.058846</td>\n",
       "      <td>-0.999435</td>\n",
       "      <td>-0.003848</td>\n",
       "      <td>-0.045185</td>\n",
       "      <td>1.000000</td>\n",
       "      <td>0.054212</td>\n",
       "      <td>-0.026359</td>\n",
       "    </tr>\n",
       "    <tr>\n",
       "      <th>Salary</th>\n",
       "      <td>-0.027248</td>\n",
       "      <td>0.041422</td>\n",
       "      <td>0.061088</td>\n",
       "      <td>-0.053501</td>\n",
       "      <td>-0.019298</td>\n",
       "      <td>-0.018947</td>\n",
       "      <td>0.054212</td>\n",
       "      <td>1.000000</td>\n",
       "      <td>0.007518</td>\n",
       "    </tr>\n",
       "    <tr>\n",
       "      <th>Zip</th>\n",
       "      <td>0.020033</td>\n",
       "      <td>-0.017266</td>\n",
       "      <td>-0.021019</td>\n",
       "      <td>0.027221</td>\n",
       "      <td>-0.028749</td>\n",
       "      <td>0.028209</td>\n",
       "      <td>-0.026359</td>\n",
       "      <td>0.007518</td>\n",
       "      <td>1.000000</td>\n",
       "    </tr>\n",
       "  </tbody>\n",
       "</table>\n",
       "</div>"
      ],
      "text/plain": [
       "                          Emp ID  Age in Yrs.  Weight in Kgs.  \\\n",
       "Emp ID                  1.000000    -0.028516        0.028175   \n",
       "Age in Yrs.            -0.028516     1.000000       -0.065656   \n",
       "Weight in Kgs.          0.028175    -0.065656        1.000000   \n",
       "Year of Joining         0.039009    -0.676875        0.058794   \n",
       "Month of Joining        0.000999     0.022617        0.003933   \n",
       "Day of Joining          0.006178    -0.026387       -0.038591   \n",
       "Age in Company (Years) -0.039064     0.676408       -0.058846   \n",
       "Salary                 -0.027248     0.041422        0.061088   \n",
       "Zip                     0.020033    -0.017266       -0.021019   \n",
       "\n",
       "                        Year of Joining  Month of Joining  Day of Joining  \\\n",
       "Emp ID                         0.039009          0.000999        0.006178   \n",
       "Age in Yrs.                   -0.676875          0.022617       -0.026387   \n",
       "Weight in Kgs.                 0.058794          0.003933       -0.038591   \n",
       "Year of Joining                1.000000         -0.029644        0.040820   \n",
       "Month of Joining              -0.029644          1.000000        0.046362   \n",
       "Day of Joining                 0.040820          0.046362        1.000000   \n",
       "Age in Company (Years)        -0.999435         -0.003848       -0.045185   \n",
       "Salary                        -0.053501         -0.019298       -0.018947   \n",
       "Zip                            0.027221         -0.028749        0.028209   \n",
       "\n",
       "                        Age in Company (Years)    Salary       Zip  \n",
       "Emp ID                               -0.039064 -0.027248  0.020033  \n",
       "Age in Yrs.                           0.676408  0.041422 -0.017266  \n",
       "Weight in Kgs.                       -0.058846  0.061088 -0.021019  \n",
       "Year of Joining                      -0.999435 -0.053501  0.027221  \n",
       "Month of Joining                     -0.003848 -0.019298 -0.028749  \n",
       "Day of Joining                       -0.045185 -0.018947  0.028209  \n",
       "Age in Company (Years)                1.000000  0.054212 -0.026359  \n",
       "Salary                                0.054212  1.000000  0.007518  \n",
       "Zip                                  -0.026359  0.007518  1.000000  "
      ]
     },
     "execution_count": 14,
     "metadata": {},
     "output_type": "execute_result"
    }
   ],
   "source": [
    "datacorr = data.corr()\n",
    "datacorr"
   ]
  },
  {
   "cell_type": "code",
   "execution_count": 16,
   "metadata": {},
   "outputs": [
    {
     "data": {
      "text/plain": [
       "<matplotlib.axes._subplots.AxesSubplot at 0x1d2eb634190>"
      ]
     },
     "execution_count": 16,
     "metadata": {},
     "output_type": "execute_result"
    },
    {
     "data": {
      "image/png": "[encoded data removed]",
      "text/plain": [
       "<Figure size 432x288 with 2 Axes>"
      ]
     },
     "metadata": {
      "needs_background": "light"
     },
     "output_type": "display_data"
    }
   ],
   "source": [
    "sns.heatmap(datacorr)"
   ]
  },
  {
   "cell_type": "markdown",
   "metadata": {},
   "source": [
    "None of the Variables have High Co-relation with Salary"
   ]
  },
  {
   "cell_type": "code",
   "execution_count": 21,
   "metadata": {},
   "outputs": [
    {
     "data": {
      "text/plain": [
       "<matplotlib.axes._subplots.AxesSubplot at 0x1d2eeee2160>"
      ]
     },
     "execution_count": 21,
     "metadata": {},
     "output_type": "execute_result"
    },
    {
     "data": {
      "image/png": "[encoded data removed]",
      "text/plain": [
       "<Figure size 432x288 with 1 Axes>"
      ]
     },
     "metadata": {
      "needs_background": "light"
     },
     "output_type": "display_data"
    }
   ],
   "source": [
    "sns.distplot(data['Age in Yrs.'], kde=False, bins=5)    "
   ]
  },
  {
   "cell_type": "markdown",
   "metadata": {},
   "source": [
    "Highest number of the Employees are around 40 years of age"
   ]
  },
  {
   "cell_type": "code",
   "execution_count": 28,
   "metadata": {},
   "outputs": [
    {
     "data": {
      "text/plain": [
       "<seaborn.axisgrid.FacetGrid at 0x1d2eef5e190>"
      ]
     },
     "execution_count": 28,
     "metadata": {},
     "output_type": "execute_result"
    },
    {
     "data": {
      "image/png": "[encoded data removed]",
      "text/plain": [
       "<Figure size 432.875x360 with 1 Axes>"
      ]
     },
     "metadata": {
      "needs_background": "light"
     },
     "output_type": "display_data"
    }
   ],
   "source": [
    "#sns.relplot(x=\"Age in Yrs.\", y=\"Salary\", hue=\"smoker\", data=tips)\n",
    "sns.relplot(x=\"Age in Company (Years)\", y=\"Salary\", hue=\"Gender\", data = data)"
   ]
  },
  {
   "cell_type": "markdown",
   "metadata": {},
   "source": [
    "Salary have no corelation with number of years in Company"
   ]
  },
  {
   "cell_type": "code",
   "execution_count": 32,
   "metadata": {},
   "outputs": [
    {
     "data": {
      "text/plain": [
       "<seaborn.axisgrid.FacetGrid at 0x1d2ed75ffd0>"
      ]
     },
     "execution_count": 32,
     "metadata": {},
     "output_type": "execute_result"
    },
    {
     "data": {
      "image/png": "[encoded data removed]",
      "text/plain": [
       "<Figure size 360x360 with 1 Axes>"
      ]
     },
     "metadata": {
      "needs_background": "light"
     },
     "output_type": "display_data"
    }
   ],
   "source": [
    "sns.catplot(x=\"Gender\", y=\"Salary\", data=data, kind= 'swarm')"
   ]
  },
  {
   "cell_type": "markdown",
   "metadata": {},
   "source": [
    "No distinct baisedness in Male and Female Salary"
   ]
  },
  {
   "cell_type": "markdown",
   "metadata": {},
   "source": [
    "### To predict Salary --- It will be a Regression Model "
   ]
  },
  {
   "cell_type": "code",
   "execution_count": 18,
   "metadata": {},
   "outputs": [
    {
     "data": {
      "text/plain": [
       "Index(['Emp ID', 'Name Prefix', 'First Name', 'Middle Initial', 'Last Name',\n",
       "       'Gender', 'E Mail', 'Father's Name', 'Mother's Name',\n",
       "       'Mother's Maiden Name', 'Date of Birth', 'Time of Birth', 'Age in Yrs.',\n",
       "       'Weight in Kgs.', 'Date of Joining', 'Quarter of Joining',\n",
       "       'Half of Joining', 'Year of Joining', 'Month of Joining',\n",
       "       'Month Name of Joining', 'Short Month', 'Day of Joining',\n",
       "       'DOW of Joining', 'Short DOW', 'Age in Company (Years)', 'Salary',\n",
       "       'Last % Hike', 'SSN', 'Phone No. ', 'Place Name', 'County', 'City',\n",
       "       'State', 'Zip', 'Region', 'User Name', 'Password'],\n",
       "      dtype='object')"
      ]
     },
     "execution_count": 18,
     "metadata": {},
     "output_type": "execute_result"
    }
   ],
   "source": [
    "data.columns"
   ]
  },
  {
   "cell_type": "markdown",
   "metadata": {},
   "source": [
    "#### Have to Drop the redundant columns"
   ]
  },
  {
   "cell_type": "code",
   "execution_count": 35,
   "metadata": {},
   "outputs": [
    {
     "data": {
      "text/html": [
       "<div>\n",
       "<style scoped>\n",
       "    .dataframe tbody tr th:only-of-type {\n",
       "        vertical-align: middle;\n",
       "    }\n",
       "\n",
       "    .dataframe tbody tr th {\n",
       "        vertical-align: top;\n",
       "    }\n",
       "\n",
       "    .dataframe thead th {\n",
       "        text-align: right;\n",
       "    }\n",
       "</style>\n",
       "<table border=\"1\" class=\"dataframe\">\n",
       "  <thead>\n",
       "    <tr style=\"text-align: right;\">\n",
       "      <th></th>\n",
       "      <th>Name Prefix</th>\n",
       "      <th>Gender</th>\n",
       "      <th>Age in Yrs.</th>\n",
       "      <th>Weight in Kgs.</th>\n",
       "      <th>Year of Joining</th>\n",
       "      <th>Month of Joining</th>\n",
       "      <th>Age in Company (Years)</th>\n",
       "      <th>Salary</th>\n",
       "      <th>Last % Hike</th>\n",
       "      <th>Region</th>\n",
       "    </tr>\n",
       "  </thead>\n",
       "  <tbody>\n",
       "    <tr>\n",
       "      <th>0</th>\n",
       "      <td>Ms.</td>\n",
       "      <td>F</td>\n",
       "      <td>45.66</td>\n",
       "      <td>44</td>\n",
       "      <td>2010</td>\n",
       "      <td>12</td>\n",
       "      <td>6.61</td>\n",
       "      <td>119090</td>\n",
       "      <td>17%</td>\n",
       "      <td>West</td>\n",
       "    </tr>\n",
       "    <tr>\n",
       "      <th>1</th>\n",
       "      <td>Mr.</td>\n",
       "      <td>M</td>\n",
       "      <td>23.76</td>\n",
       "      <td>52</td>\n",
       "      <td>2017</td>\n",
       "      <td>4</td>\n",
       "      <td>0.26</td>\n",
       "      <td>117991</td>\n",
       "      <td>14%</td>\n",
       "      <td>Midwest</td>\n",
       "    </tr>\n",
       "    <tr>\n",
       "      <th>2</th>\n",
       "      <td>Drs.</td>\n",
       "      <td>F</td>\n",
       "      <td>22.68</td>\n",
       "      <td>42</td>\n",
       "      <td>2017</td>\n",
       "      <td>3</td>\n",
       "      <td>0.34</td>\n",
       "      <td>161045</td>\n",
       "      <td>28%</td>\n",
       "      <td>South</td>\n",
       "    </tr>\n",
       "    <tr>\n",
       "      <th>3</th>\n",
       "      <td>Mrs.</td>\n",
       "      <td>F</td>\n",
       "      <td>41.70</td>\n",
       "      <td>43</td>\n",
       "      <td>2003</td>\n",
       "      <td>2</td>\n",
       "      <td>14.43</td>\n",
       "      <td>142616</td>\n",
       "      <td>16%</td>\n",
       "      <td>Midwest</td>\n",
       "    </tr>\n",
       "    <tr>\n",
       "      <th>4</th>\n",
       "      <td>Hon.</td>\n",
       "      <td>F</td>\n",
       "      <td>22.39</td>\n",
       "      <td>58</td>\n",
       "      <td>2016</td>\n",
       "      <td>10</td>\n",
       "      <td>0.79</td>\n",
       "      <td>135706</td>\n",
       "      <td>11%</td>\n",
       "      <td>West</td>\n",
       "    </tr>\n",
       "  </tbody>\n",
       "</table>\n",
       "</div>"
      ],
      "text/plain": [
       "  Name Prefix Gender  Age in Yrs.  Weight in Kgs.  Year of Joining  \\\n",
       "0         Ms.      F        45.66              44             2010   \n",
       "1         Mr.      M        23.76              52             2017   \n",
       "2        Drs.      F        22.68              42             2017   \n",
       "3        Mrs.      F        41.70              43             2003   \n",
       "4        Hon.      F        22.39              58             2016   \n",
       "\n",
       "   Month of Joining  Age in Company (Years)  Salary Last % Hike   Region  \n",
       "0                12                    6.61  119090         17%     West  \n",
       "1                 4                    0.26  117991         14%  Midwest  \n",
       "2                 3                    0.34  161045         28%    South  \n",
       "3                 2                   14.43  142616         16%  Midwest  \n",
       "4                10                    0.79  135706         11%     West  "
      ]
     },
     "execution_count": 35,
     "metadata": {},
     "output_type": "execute_result"
    }
   ],
   "source": [
    "cols = ['Name Prefix', 'Gender','Age in Yrs.','Weight in Kgs.', 'Year of Joining', 'Month of Joining', \n",
    "        'Age in Company (Years)', 'Salary','Last % Hike','Region']\n",
    "salary_DT= data[cols]\n",
    "salary_DT.head()"
   ]
  },
  {
   "cell_type": "code",
   "execution_count": 36,
   "metadata": {},
   "outputs": [
    {
     "data": {
      "text/plain": [
       "Name Prefix                object\n",
       "Gender                     object\n",
       "Age in Yrs.               float64\n",
       "Weight in Kgs.              int64\n",
       "Year of Joining             int64\n",
       "Month of Joining            int64\n",
       "Age in Company (Years)    float64\n",
       "Salary                      int64\n",
       "Last % Hike                object\n",
       "Region                     object\n",
       "dtype: object"
      ]
     },
     "execution_count": 36,
     "metadata": {},
     "output_type": "execute_result"
    }
   ],
   "source": [
    "salary_DT.dtypes"
   ]
  },
  {
   "cell_type": "code",
   "execution_count": 38,
   "metadata": {},
   "outputs": [],
   "source": [
    "y = salary_DT['Salary'].values   #target variable"
   ]
  },
  {
   "cell_type": "code",
   "execution_count": 39,
   "metadata": {},
   "outputs": [],
   "source": [
    "x = salary_DT[['Name Prefix', 'Gender','Age in Yrs.','Weight in Kgs.', 'Year of Joining', 'Month of Joining', \n",
    "        'Age in Company (Years)', 'Last % Hike','Region']]              #attributes"
   ]
  },
  {
   "cell_type": "markdown",
   "metadata": {},
   "source": [
    "#### Preprocessing of Data "
   ]
  },
  {
   "cell_type": "code",
   "execution_count": 41,
   "metadata": {},
   "outputs": [],
   "source": [
    "Hike = list(x['Last % Hike'])"
   ]
  },
  {
   "cell_type": "code",
   "execution_count": 53,
   "metadata": {},
   "outputs": [],
   "source": [
    "#Stripping the % sign from the column 'Last % Hike'\n",
    "new_hike = []\n",
    "for i in Hike:\n",
    "    j = int(i.split('%')[0])\n",
    "    new_hike.append(j)"
   ]
  },
  {
   "cell_type": "code",
   "execution_count": 54,
   "metadata": {},
   "outputs": [],
   "source": [
    "x['Last % Hike'] = new_hike"
   ]
  },
  {
   "cell_type": "code",
   "execution_count": 57,
   "metadata": {},
   "outputs": [
    {
     "data": {
      "text/html": [
       "<div>\n",
       "<style scoped>\n",
       "    .dataframe tbody tr th:only-of-type {\n",
       "        vertical-align: middle;\n",
       "    }\n",
       "\n",
       "    .dataframe tbody tr th {\n",
       "        vertical-align: top;\n",
       "    }\n",
       "\n",
       "    .dataframe thead th {\n",
       "        text-align: right;\n",
       "    }\n",
       "</style>\n",
       "<table border=\"1\" class=\"dataframe\">\n",
       "  <thead>\n",
       "    <tr style=\"text-align: right;\">\n",
       "      <th></th>\n",
       "      <th>Name Prefix</th>\n",
       "      <th>Gender</th>\n",
       "      <th>Age in Yrs.</th>\n",
       "      <th>Weight in Kgs.</th>\n",
       "      <th>Year of Joining</th>\n",
       "      <th>Month of Joining</th>\n",
       "      <th>Age in Company (Years)</th>\n",
       "      <th>Last % Hike</th>\n",
       "      <th>Region</th>\n",
       "    </tr>\n",
       "  </thead>\n",
       "  <tbody>\n",
       "    <tr>\n",
       "      <th>0</th>\n",
       "      <td>Ms.</td>\n",
       "      <td>F</td>\n",
       "      <td>45.66</td>\n",
       "      <td>44</td>\n",
       "      <td>2010</td>\n",
       "      <td>12</td>\n",
       "      <td>6.61</td>\n",
       "      <td>17</td>\n",
       "      <td>West</td>\n",
       "    </tr>\n",
       "    <tr>\n",
       "      <th>1</th>\n",
       "      <td>Mr.</td>\n",
       "      <td>M</td>\n",
       "      <td>23.76</td>\n",
       "      <td>52</td>\n",
       "      <td>2017</td>\n",
       "      <td>4</td>\n",
       "      <td>0.26</td>\n",
       "      <td>14</td>\n",
       "      <td>Midwest</td>\n",
       "    </tr>\n",
       "    <tr>\n",
       "      <th>2</th>\n",
       "      <td>Drs.</td>\n",
       "      <td>F</td>\n",
       "      <td>22.68</td>\n",
       "      <td>42</td>\n",
       "      <td>2017</td>\n",
       "      <td>3</td>\n",
       "      <td>0.34</td>\n",
       "      <td>28</td>\n",
       "      <td>South</td>\n",
       "    </tr>\n",
       "    <tr>\n",
       "      <th>3</th>\n",
       "      <td>Mrs.</td>\n",
       "      <td>F</td>\n",
       "      <td>41.70</td>\n",
       "      <td>43</td>\n",
       "      <td>2003</td>\n",
       "      <td>2</td>\n",
       "      <td>14.43</td>\n",
       "      <td>16</td>\n",
       "      <td>Midwest</td>\n",
       "    </tr>\n",
       "    <tr>\n",
       "      <th>4</th>\n",
       "      <td>Hon.</td>\n",
       "      <td>F</td>\n",
       "      <td>22.39</td>\n",
       "      <td>58</td>\n",
       "      <td>2016</td>\n",
       "      <td>10</td>\n",
       "      <td>0.79</td>\n",
       "      <td>11</td>\n",
       "      <td>West</td>\n",
       "    </tr>\n",
       "  </tbody>\n",
       "</table>\n",
       "</div>"
      ],
      "text/plain": [
       "  Name Prefix Gender  Age in Yrs.  Weight in Kgs.  Year of Joining  \\\n",
       "0         Ms.      F        45.66              44             2010   \n",
       "1         Mr.      M        23.76              52             2017   \n",
       "2        Drs.      F        22.68              42             2017   \n",
       "3        Mrs.      F        41.70              43             2003   \n",
       "4        Hon.      F        22.39              58             2016   \n",
       "\n",
       "   Month of Joining  Age in Company (Years)  Last % Hike   Region  \n",
       "0                12                    6.61           17     West  \n",
       "1                 4                    0.26           14  Midwest  \n",
       "2                 3                    0.34           28    South  \n",
       "3                 2                   14.43           16  Midwest  \n",
       "4                10                    0.79           11     West  "
      ]
     },
     "execution_count": 57,
     "metadata": {},
     "output_type": "execute_result"
    }
   ],
   "source": [
    "x.head()"
   ]
  },
  {
   "cell_type": "code",
   "execution_count": 55,
   "metadata": {},
   "outputs": [
    {
     "data": {
      "text/plain": [
       "Name Prefix                object\n",
       "Gender                     object\n",
       "Age in Yrs.               float64\n",
       "Weight in Kgs.              int64\n",
       "Year of Joining             int64\n",
       "Month of Joining            int64\n",
       "Age in Company (Years)    float64\n",
       "Last % Hike                 int64\n",
       "Region                     object\n",
       "dtype: object"
      ]
     },
     "execution_count": 55,
     "metadata": {},
     "output_type": "execute_result"
    }
   ],
   "source": [
    "x.dtypes"
   ]
  },
  {
   "cell_type": "code",
   "execution_count": 58,
   "metadata": {},
   "outputs": [],
   "source": [
    "#Preprocessing to convert categorical to Numerical dummy values for ML model\n",
    "dummies = []\n",
    "cols = ['Name Prefix','Gender','Region']\n",
    "for col in cols:\n",
    "    dummies.append(pd.get_dummies(x[col]))"
   ]
  },
  {
   "cell_type": "code",
   "execution_count": 59,
   "metadata": {},
   "outputs": [
    {
     "data": {
      "text/html": [
       "<div>\n",
       "<style scoped>\n",
       "    .dataframe tbody tr th:only-of-type {\n",
       "        vertical-align: middle;\n",
       "    }\n",
       "\n",
       "    .dataframe tbody tr th {\n",
       "        vertical-align: top;\n",
       "    }\n",
       "\n",
       "    .dataframe thead th {\n",
       "        text-align: right;\n",
       "    }\n",
       "</style>\n",
       "<table border=\"1\" class=\"dataframe\">\n",
       "  <thead>\n",
       "    <tr style=\"text-align: right;\">\n",
       "      <th></th>\n",
       "      <th>Dr.</th>\n",
       "      <th>Drs.</th>\n",
       "      <th>Hon.</th>\n",
       "      <th>Mr.</th>\n",
       "      <th>Mrs.</th>\n",
       "      <th>Ms.</th>\n",
       "      <th>Prof.</th>\n",
       "      <th>F</th>\n",
       "      <th>M</th>\n",
       "      <th>Midwest</th>\n",
       "      <th>Northeast</th>\n",
       "      <th>South</th>\n",
       "      <th>West</th>\n",
       "    </tr>\n",
       "  </thead>\n",
       "  <tbody>\n",
       "    <tr>\n",
       "      <th>0</th>\n",
       "      <td>0</td>\n",
       "      <td>0</td>\n",
       "      <td>0</td>\n",
       "      <td>0</td>\n",
       "      <td>0</td>\n",
       "      <td>1</td>\n",
       "      <td>0</td>\n",
       "      <td>1</td>\n",
       "      <td>0</td>\n",
       "      <td>0</td>\n",
       "      <td>0</td>\n",
       "      <td>0</td>\n",
       "      <td>1</td>\n",
       "    </tr>\n",
       "    <tr>\n",
       "      <th>1</th>\n",
       "      <td>0</td>\n",
       "      <td>0</td>\n",
       "      <td>0</td>\n",
       "      <td>1</td>\n",
       "      <td>0</td>\n",
       "      <td>0</td>\n",
       "      <td>0</td>\n",
       "      <td>0</td>\n",
       "      <td>1</td>\n",
       "      <td>1</td>\n",
       "      <td>0</td>\n",
       "      <td>0</td>\n",
       "      <td>0</td>\n",
       "    </tr>\n",
       "    <tr>\n",
       "      <th>2</th>\n",
       "      <td>0</td>\n",
       "      <td>1</td>\n",
       "      <td>0</td>\n",
       "      <td>0</td>\n",
       "      <td>0</td>\n",
       "      <td>0</td>\n",
       "      <td>0</td>\n",
       "      <td>1</td>\n",
       "      <td>0</td>\n",
       "      <td>0</td>\n",
       "      <td>0</td>\n",
       "      <td>1</td>\n",
       "      <td>0</td>\n",
       "    </tr>\n",
       "    <tr>\n",
       "      <th>3</th>\n",
       "      <td>0</td>\n",
       "      <td>0</td>\n",
       "      <td>0</td>\n",
       "      <td>0</td>\n",
       "      <td>1</td>\n",
       "      <td>0</td>\n",
       "      <td>0</td>\n",
       "      <td>1</td>\n",
       "      <td>0</td>\n",
       "      <td>1</td>\n",
       "      <td>0</td>\n",
       "      <td>0</td>\n",
       "      <td>0</td>\n",
       "    </tr>\n",
       "    <tr>\n",
       "      <th>4</th>\n",
       "      <td>0</td>\n",
       "      <td>0</td>\n",
       "      <td>1</td>\n",
       "      <td>0</td>\n",
       "      <td>0</td>\n",
       "      <td>0</td>\n",
       "      <td>0</td>\n",
       "      <td>1</td>\n",
       "      <td>0</td>\n",
       "      <td>0</td>\n",
       "      <td>0</td>\n",
       "      <td>0</td>\n",
       "      <td>1</td>\n",
       "    </tr>\n",
       "  </tbody>\n",
       "</table>\n",
       "</div>"
      ],
      "text/plain": [
       "   Dr.  Drs.  Hon.  Mr.  Mrs.  Ms.  Prof.  F  M  Midwest  Northeast  South  \\\n",
       "0    0     0     0    0     0    1      0  1  0        0          0      0   \n",
       "1    0     0     0    1     0    0      0  0  1        1          0      0   \n",
       "2    0     1     0    0     0    0      0  1  0        0          0      1   \n",
       "3    0     0     0    0     1    0      0  1  0        1          0      0   \n",
       "4    0     0     1    0     0    0      0  1  0        0          0      0   \n",
       "\n",
       "   West  \n",
       "0     1  \n",
       "1     0  \n",
       "2     0  \n",
       "3     0  \n",
       "4     1  "
      ]
     },
     "execution_count": 59,
     "metadata": {},
     "output_type": "execute_result"
    }
   ],
   "source": [
    "x_dummies = pd.concat(dummies, axis=1)\n",
    "x_dummies.head()"
   ]
  },
  {
   "cell_type": "code",
   "execution_count": 61,
   "metadata": {},
   "outputs": [],
   "source": [
    "# Concating it to the original Dataset\n",
    "x = pd.concat((x,x_dummies),axis=1)"
   ]
  },
  {
   "cell_type": "code",
   "execution_count": 62,
   "metadata": {},
   "outputs": [
    {
     "data": {
      "text/html": [
       "<div>\n",
       "<style scoped>\n",
       "    .dataframe tbody tr th:only-of-type {\n",
       "        vertical-align: middle;\n",
       "    }\n",
       "\n",
       "    .dataframe tbody tr th {\n",
       "        vertical-align: top;\n",
       "    }\n",
       "\n",
       "    .dataframe thead th {\n",
       "        text-align: right;\n",
       "    }\n",
       "</style>\n",
       "<table border=\"1\" class=\"dataframe\">\n",
       "  <thead>\n",
       "    <tr style=\"text-align: right;\">\n",
       "      <th></th>\n",
       "      <th>Name Prefix</th>\n",
       "      <th>Gender</th>\n",
       "      <th>Age in Yrs.</th>\n",
       "      <th>Weight in Kgs.</th>\n",
       "      <th>Year of Joining</th>\n",
       "      <th>Month of Joining</th>\n",
       "      <th>Age in Company (Years)</th>\n",
       "      <th>Last % Hike</th>\n",
       "      <th>Region</th>\n",
       "      <th>Dr.</th>\n",
       "      <th>...</th>\n",
       "      <th>Mr.</th>\n",
       "      <th>Mrs.</th>\n",
       "      <th>Ms.</th>\n",
       "      <th>Prof.</th>\n",
       "      <th>F</th>\n",
       "      <th>M</th>\n",
       "      <th>Midwest</th>\n",
       "      <th>Northeast</th>\n",
       "      <th>South</th>\n",
       "      <th>West</th>\n",
       "    </tr>\n",
       "  </thead>\n",
       "  <tbody>\n",
       "    <tr>\n",
       "      <th>0</th>\n",
       "      <td>Ms.</td>\n",
       "      <td>F</td>\n",
       "      <td>45.66</td>\n",
       "      <td>44</td>\n",
       "      <td>2010</td>\n",
       "      <td>12</td>\n",
       "      <td>6.61</td>\n",
       "      <td>17</td>\n",
       "      <td>West</td>\n",
       "      <td>0</td>\n",
       "      <td>...</td>\n",
       "      <td>0</td>\n",
       "      <td>0</td>\n",
       "      <td>1</td>\n",
       "      <td>0</td>\n",
       "      <td>1</td>\n",
       "      <td>0</td>\n",
       "      <td>0</td>\n",
       "      <td>0</td>\n",
       "      <td>0</td>\n",
       "      <td>1</td>\n",
       "    </tr>\n",
       "    <tr>\n",
       "      <th>1</th>\n",
       "      <td>Mr.</td>\n",
       "      <td>M</td>\n",
       "      <td>23.76</td>\n",
       "      <td>52</td>\n",
       "      <td>2017</td>\n",
       "      <td>4</td>\n",
       "      <td>0.26</td>\n",
       "      <td>14</td>\n",
       "      <td>Midwest</td>\n",
       "      <td>0</td>\n",
       "      <td>...</td>\n",
       "      <td>1</td>\n",
       "      <td>0</td>\n",
       "      <td>0</td>\n",
       "      <td>0</td>\n",
       "      <td>0</td>\n",
       "      <td>1</td>\n",
       "      <td>1</td>\n",
       "      <td>0</td>\n",
       "      <td>0</td>\n",
       "      <td>0</td>\n",
       "    </tr>\n",
       "    <tr>\n",
       "      <th>2</th>\n",
       "      <td>Drs.</td>\n",
       "      <td>F</td>\n",
       "      <td>22.68</td>\n",
       "      <td>42</td>\n",
       "      <td>2017</td>\n",
       "      <td>3</td>\n",
       "      <td>0.34</td>\n",
       "      <td>28</td>\n",
       "      <td>South</td>\n",
       "      <td>0</td>\n",
       "      <td>...</td>\n",
       "      <td>0</td>\n",
       "      <td>0</td>\n",
       "      <td>0</td>\n",
       "      <td>0</td>\n",
       "      <td>1</td>\n",
       "      <td>0</td>\n",
       "      <td>0</td>\n",
       "      <td>0</td>\n",
       "      <td>1</td>\n",
       "      <td>0</td>\n",
       "    </tr>\n",
       "    <tr>\n",
       "      <th>3</th>\n",
       "      <td>Mrs.</td>\n",
       "      <td>F</td>\n",
       "      <td>41.70</td>\n",
       "      <td>43</td>\n",
       "      <td>2003</td>\n",
       "      <td>2</td>\n",
       "      <td>14.43</td>\n",
       "      <td>16</td>\n",
       "      <td>Midwest</td>\n",
       "      <td>0</td>\n",
       "      <td>...</td>\n",
       "      <td>0</td>\n",
       "      <td>1</td>\n",
       "      <td>0</td>\n",
       "      <td>0</td>\n",
       "      <td>1</td>\n",
       "      <td>0</td>\n",
       "      <td>1</td>\n",
       "      <td>0</td>\n",
       "      <td>0</td>\n",
       "      <td>0</td>\n",
       "    </tr>\n",
       "    <tr>\n",
       "      <th>4</th>\n",
       "      <td>Hon.</td>\n",
       "      <td>F</td>\n",
       "      <td>22.39</td>\n",
       "      <td>58</td>\n",
       "      <td>2016</td>\n",
       "      <td>10</td>\n",
       "      <td>0.79</td>\n",
       "      <td>11</td>\n",
       "      <td>West</td>\n",
       "      <td>0</td>\n",
       "      <td>...</td>\n",
       "      <td>0</td>\n",
       "      <td>0</td>\n",
       "      <td>0</td>\n",
       "      <td>0</td>\n",
       "      <td>1</td>\n",
       "      <td>0</td>\n",
       "      <td>0</td>\n",
       "      <td>0</td>\n",
       "      <td>0</td>\n",
       "      <td>1</td>\n",
       "    </tr>\n",
       "  </tbody>\n",
       "</table>\n",
       "<p>5 rows × 35 columns</p>\n",
       "</div>"
      ],
      "text/plain": [
       "  Name Prefix Gender  Age in Yrs.  Weight in Kgs.  Year of Joining  \\\n",
       "0         Ms.      F        45.66              44             2010   \n",
       "1         Mr.      M        23.76              52             2017   \n",
       "2        Drs.      F        22.68              42             2017   \n",
       "3        Mrs.      F        41.70              43             2003   \n",
       "4        Hon.      F        22.39              58             2016   \n",
       "\n",
       "   Month of Joining  Age in Company (Years)  Last % Hike   Region  Dr.  ...  \\\n",
       "0                12                    6.61           17     West    0  ...   \n",
       "1                 4                    0.26           14  Midwest    0  ...   \n",
       "2                 3                    0.34           28    South    0  ...   \n",
       "3                 2                   14.43           16  Midwest    0  ...   \n",
       "4                10                    0.79           11     West    0  ...   \n",
       "\n",
       "   Mr.  Mrs.  Ms.  Prof.  F  M  Midwest  Northeast  South  West  \n",
       "0    0     0    1      0  1  0        0          0      0     1  \n",
       "1    1     0    0      0  0  1        1          0      0     0  \n",
       "2    0     0    0      0  1  0        0          0      1     0  \n",
       "3    0     1    0      0  1  0        1          0      0     0  \n",
       "4    0     0    0      0  1  0        0          0      0     1  \n",
       "\n",
       "[5 rows x 35 columns]"
      ]
     },
     "execution_count": 62,
     "metadata": {},
     "output_type": "execute_result"
    }
   ],
   "source": [
    "x.head()"
   ]
  },
  {
   "cell_type": "markdown",
   "metadata": {},
   "source": [
    "Need to Drop the redundant columns"
   ]
  },
  {
   "cell_type": "code",
   "execution_count": 63,
   "metadata": {},
   "outputs": [
    {
     "data": {
      "text/html": [
       "<div>\n",
       "<style scoped>\n",
       "    .dataframe tbody tr th:only-of-type {\n",
       "        vertical-align: middle;\n",
       "    }\n",
       "\n",
       "    .dataframe tbody tr th {\n",
       "        vertical-align: top;\n",
       "    }\n",
       "\n",
       "    .dataframe thead th {\n",
       "        text-align: right;\n",
       "    }\n",
       "</style>\n",
       "<table border=\"1\" class=\"dataframe\">\n",
       "  <thead>\n",
       "    <tr style=\"text-align: right;\">\n",
       "      <th></th>\n",
       "      <th>Age in Yrs.</th>\n",
       "      <th>Weight in Kgs.</th>\n",
       "      <th>Year of Joining</th>\n",
       "      <th>Month of Joining</th>\n",
       "      <th>Age in Company (Years)</th>\n",
       "      <th>Last % Hike</th>\n",
       "      <th>Dr.</th>\n",
       "      <th>Drs.</th>\n",
       "      <th>Hon.</th>\n",
       "      <th>Mr.</th>\n",
       "      <th>...</th>\n",
       "      <th>Mr.</th>\n",
       "      <th>Mrs.</th>\n",
       "      <th>Ms.</th>\n",
       "      <th>Prof.</th>\n",
       "      <th>F</th>\n",
       "      <th>M</th>\n",
       "      <th>Midwest</th>\n",
       "      <th>Northeast</th>\n",
       "      <th>South</th>\n",
       "      <th>West</th>\n",
       "    </tr>\n",
       "  </thead>\n",
       "  <tbody>\n",
       "    <tr>\n",
       "      <th>0</th>\n",
       "      <td>45.66</td>\n",
       "      <td>44</td>\n",
       "      <td>2010</td>\n",
       "      <td>12</td>\n",
       "      <td>6.61</td>\n",
       "      <td>17</td>\n",
       "      <td>0</td>\n",
       "      <td>0</td>\n",
       "      <td>0</td>\n",
       "      <td>0</td>\n",
       "      <td>...</td>\n",
       "      <td>0</td>\n",
       "      <td>0</td>\n",
       "      <td>1</td>\n",
       "      <td>0</td>\n",
       "      <td>1</td>\n",
       "      <td>0</td>\n",
       "      <td>0</td>\n",
       "      <td>0</td>\n",
       "      <td>0</td>\n",
       "      <td>1</td>\n",
       "    </tr>\n",
       "    <tr>\n",
       "      <th>1</th>\n",
       "      <td>23.76</td>\n",
       "      <td>52</td>\n",
       "      <td>2017</td>\n",
       "      <td>4</td>\n",
       "      <td>0.26</td>\n",
       "      <td>14</td>\n",
       "      <td>0</td>\n",
       "      <td>0</td>\n",
       "      <td>0</td>\n",
       "      <td>1</td>\n",
       "      <td>...</td>\n",
       "      <td>1</td>\n",
       "      <td>0</td>\n",
       "      <td>0</td>\n",
       "      <td>0</td>\n",
       "      <td>0</td>\n",
       "      <td>1</td>\n",
       "      <td>1</td>\n",
       "      <td>0</td>\n",
       "      <td>0</td>\n",
       "      <td>0</td>\n",
       "    </tr>\n",
       "    <tr>\n",
       "      <th>2</th>\n",
       "      <td>22.68</td>\n",
       "      <td>42</td>\n",
       "      <td>2017</td>\n",
       "      <td>3</td>\n",
       "      <td>0.34</td>\n",
       "      <td>28</td>\n",
       "      <td>0</td>\n",
       "      <td>1</td>\n",
       "      <td>0</td>\n",
       "      <td>0</td>\n",
       "      <td>...</td>\n",
       "      <td>0</td>\n",
       "      <td>0</td>\n",
       "      <td>0</td>\n",
       "      <td>0</td>\n",
       "      <td>1</td>\n",
       "      <td>0</td>\n",
       "      <td>0</td>\n",
       "      <td>0</td>\n",
       "      <td>1</td>\n",
       "      <td>0</td>\n",
       "    </tr>\n",
       "    <tr>\n",
       "      <th>3</th>\n",
       "      <td>41.70</td>\n",
       "      <td>43</td>\n",
       "      <td>2003</td>\n",
       "      <td>2</td>\n",
       "      <td>14.43</td>\n",
       "      <td>16</td>\n",
       "      <td>0</td>\n",
       "      <td>0</td>\n",
       "      <td>0</td>\n",
       "      <td>0</td>\n",
       "      <td>...</td>\n",
       "      <td>0</td>\n",
       "      <td>1</td>\n",
       "      <td>0</td>\n",
       "      <td>0</td>\n",
       "      <td>1</td>\n",
       "      <td>0</td>\n",
       "      <td>1</td>\n",
       "      <td>0</td>\n",
       "      <td>0</td>\n",
       "      <td>0</td>\n",
       "    </tr>\n",
       "    <tr>\n",
       "      <th>4</th>\n",
       "      <td>22.39</td>\n",
       "      <td>58</td>\n",
       "      <td>2016</td>\n",
       "      <td>10</td>\n",
       "      <td>0.79</td>\n",
       "      <td>11</td>\n",
       "      <td>0</td>\n",
       "      <td>0</td>\n",
       "      <td>1</td>\n",
       "      <td>0</td>\n",
       "      <td>...</td>\n",
       "      <td>0</td>\n",
       "      <td>0</td>\n",
       "      <td>0</td>\n",
       "      <td>0</td>\n",
       "      <td>1</td>\n",
       "      <td>0</td>\n",
       "      <td>0</td>\n",
       "      <td>0</td>\n",
       "      <td>0</td>\n",
       "      <td>1</td>\n",
       "    </tr>\n",
       "  </tbody>\n",
       "</table>\n",
       "<p>5 rows × 32 columns</p>\n",
       "</div>"
      ],
      "text/plain": [
       "   Age in Yrs.  Weight in Kgs.  Year of Joining  Month of Joining  \\\n",
       "0        45.66              44             2010                12   \n",
       "1        23.76              52             2017                 4   \n",
       "2        22.68              42             2017                 3   \n",
       "3        41.70              43             2003                 2   \n",
       "4        22.39              58             2016                10   \n",
       "\n",
       "   Age in Company (Years)  Last % Hike  Dr.  Drs.  Hon.  Mr.  ...  Mr.  Mrs.  \\\n",
       "0                    6.61           17    0     0     0    0  ...    0     0   \n",
       "1                    0.26           14    0     0     0    1  ...    1     0   \n",
       "2                    0.34           28    0     1     0    0  ...    0     0   \n",
       "3                   14.43           16    0     0     0    0  ...    0     1   \n",
       "4                    0.79           11    0     0     1    0  ...    0     0   \n",
       "\n",
       "   Ms.  Prof.  F  M  Midwest  Northeast  South  West  \n",
       "0    1      0  1  0        0          0      0     1  \n",
       "1    0      0  0  1        1          0      0     0  \n",
       "2    0      0  1  0        0          0      1     0  \n",
       "3    0      0  1  0        1          0      0     0  \n",
       "4    0      0  1  0        0          0      0     1  \n",
       "\n",
       "[5 rows x 32 columns]"
      ]
     },
     "execution_count": 63,
     "metadata": {},
     "output_type": "execute_result"
    }
   ],
   "source": [
    "x = x.drop(['Name Prefix','Gender','Region'],axis=1)\n",
    "x.head()"
   ]
  },
  {
   "cell_type": "code",
   "execution_count": 65,
   "metadata": {},
   "outputs": [
    {
     "name": "stdout",
     "output_type": "stream",
     "text": [
      "<class 'pandas.core.frame.DataFrame'>\n",
      "RangeIndex: 1000 entries, 0 to 999\n",
      "Data columns (total 32 columns):\n",
      " #   Column                  Non-Null Count  Dtype  \n",
      "---  ------                  --------------  -----  \n",
      " 0   Age in Yrs.             1000 non-null   float64\n",
      " 1   Weight in Kgs.          1000 non-null   int64  \n",
      " 2   Year of Joining         1000 non-null   int64  \n",
      " 3   Month of Joining        1000 non-null   int64  \n",
      " 4   Age in Company (Years)  1000 non-null   float64\n",
      " 5   Last % Hike             1000 non-null   int64  \n",
      " 6   Dr.                     1000 non-null   uint8  \n",
      " 7   Drs.                    1000 non-null   uint8  \n",
      " 8   Hon.                    1000 non-null   uint8  \n",
      " 9   Mr.                     1000 non-null   uint8  \n",
      " 10  Mrs.                    1000 non-null   uint8  \n",
      " 11  Ms.                     1000 non-null   uint8  \n",
      " 12  Prof.                   1000 non-null   uint8  \n",
      " 13  F                       1000 non-null   uint8  \n",
      " 14  M                       1000 non-null   uint8  \n",
      " 15  Midwest                 1000 non-null   uint8  \n",
      " 16  Northeast               1000 non-null   uint8  \n",
      " 17  South                   1000 non-null   uint8  \n",
      " 18  West                    1000 non-null   uint8  \n",
      " 19  Dr.                     1000 non-null   uint8  \n",
      " 20  Drs.                    1000 non-null   uint8  \n",
      " 21  Hon.                    1000 non-null   uint8  \n",
      " 22  Mr.                     1000 non-null   uint8  \n",
      " 23  Mrs.                    1000 non-null   uint8  \n",
      " 24  Ms.                     1000 non-null   uint8  \n",
      " 25  Prof.                   1000 non-null   uint8  \n",
      " 26  F                       1000 non-null   uint8  \n",
      " 27  M                       1000 non-null   uint8  \n",
      " 28  Midwest                 1000 non-null   uint8  \n",
      " 29  Northeast               1000 non-null   uint8  \n",
      " 30  South                   1000 non-null   uint8  \n",
      " 31  West                    1000 non-null   uint8  \n",
      "dtypes: float64(2), int64(4), uint8(26)\n",
      "memory usage: 72.4 KB\n"
     ]
    }
   ],
   "source": [
    "x.info()"
   ]
  },
  {
   "cell_type": "code",
   "execution_count": 66,
   "metadata": {},
   "outputs": [
    {
     "data": {
      "text/html": [
       "<div>\n",
       "<style scoped>\n",
       "    .dataframe tbody tr th:only-of-type {\n",
       "        vertical-align: middle;\n",
       "    }\n",
       "\n",
       "    .dataframe tbody tr th {\n",
       "        vertical-align: top;\n",
       "    }\n",
       "\n",
       "    .dataframe thead th {\n",
       "        text-align: right;\n",
       "    }\n",
       "</style>\n",
       "<table border=\"1\" class=\"dataframe\">\n",
       "  <thead>\n",
       "    <tr style=\"text-align: right;\">\n",
       "      <th></th>\n",
       "      <th>Age in Yrs.</th>\n",
       "      <th>Weight in Kgs.</th>\n",
       "      <th>Year of Joining</th>\n",
       "      <th>Month of Joining</th>\n",
       "      <th>Age in Company (Years)</th>\n",
       "      <th>Last % Hike</th>\n",
       "      <th>Dr.</th>\n",
       "      <th>Drs.</th>\n",
       "      <th>Hon.</th>\n",
       "      <th>Mr.</th>\n",
       "      <th>...</th>\n",
       "      <th>Mr.</th>\n",
       "      <th>Mrs.</th>\n",
       "      <th>Ms.</th>\n",
       "      <th>Prof.</th>\n",
       "      <th>F</th>\n",
       "      <th>M</th>\n",
       "      <th>Midwest</th>\n",
       "      <th>Northeast</th>\n",
       "      <th>South</th>\n",
       "      <th>West</th>\n",
       "    </tr>\n",
       "  </thead>\n",
       "  <tbody>\n",
       "    <tr>\n",
       "      <th>0</th>\n",
       "      <td>45.66</td>\n",
       "      <td>44</td>\n",
       "      <td>2010</td>\n",
       "      <td>12</td>\n",
       "      <td>6.61</td>\n",
       "      <td>17</td>\n",
       "      <td>0</td>\n",
       "      <td>0</td>\n",
       "      <td>0</td>\n",
       "      <td>0</td>\n",
       "      <td>...</td>\n",
       "      <td>0</td>\n",
       "      <td>0</td>\n",
       "      <td>1</td>\n",
       "      <td>0</td>\n",
       "      <td>1</td>\n",
       "      <td>0</td>\n",
       "      <td>0</td>\n",
       "      <td>0</td>\n",
       "      <td>0</td>\n",
       "      <td>1</td>\n",
       "    </tr>\n",
       "    <tr>\n",
       "      <th>1</th>\n",
       "      <td>23.76</td>\n",
       "      <td>52</td>\n",
       "      <td>2017</td>\n",
       "      <td>4</td>\n",
       "      <td>0.26</td>\n",
       "      <td>14</td>\n",
       "      <td>0</td>\n",
       "      <td>0</td>\n",
       "      <td>0</td>\n",
       "      <td>1</td>\n",
       "      <td>...</td>\n",
       "      <td>1</td>\n",
       "      <td>0</td>\n",
       "      <td>0</td>\n",
       "      <td>0</td>\n",
       "      <td>0</td>\n",
       "      <td>1</td>\n",
       "      <td>1</td>\n",
       "      <td>0</td>\n",
       "      <td>0</td>\n",
       "      <td>0</td>\n",
       "    </tr>\n",
       "    <tr>\n",
       "      <th>2</th>\n",
       "      <td>22.68</td>\n",
       "      <td>42</td>\n",
       "      <td>2017</td>\n",
       "      <td>3</td>\n",
       "      <td>0.34</td>\n",
       "      <td>28</td>\n",
       "      <td>0</td>\n",
       "      <td>1</td>\n",
       "      <td>0</td>\n",
       "      <td>0</td>\n",
       "      <td>...</td>\n",
       "      <td>0</td>\n",
       "      <td>0</td>\n",
       "      <td>0</td>\n",
       "      <td>0</td>\n",
       "      <td>1</td>\n",
       "      <td>0</td>\n",
       "      <td>0</td>\n",
       "      <td>0</td>\n",
       "      <td>1</td>\n",
       "      <td>0</td>\n",
       "    </tr>\n",
       "    <tr>\n",
       "      <th>3</th>\n",
       "      <td>41.70</td>\n",
       "      <td>43</td>\n",
       "      <td>2003</td>\n",
       "      <td>2</td>\n",
       "      <td>14.43</td>\n",
       "      <td>16</td>\n",
       "      <td>0</td>\n",
       "      <td>0</td>\n",
       "      <td>0</td>\n",
       "      <td>0</td>\n",
       "      <td>...</td>\n",
       "      <td>0</td>\n",
       "      <td>1</td>\n",
       "      <td>0</td>\n",
       "      <td>0</td>\n",
       "      <td>1</td>\n",
       "      <td>0</td>\n",
       "      <td>1</td>\n",
       "      <td>0</td>\n",
       "      <td>0</td>\n",
       "      <td>0</td>\n",
       "    </tr>\n",
       "    <tr>\n",
       "      <th>4</th>\n",
       "      <td>22.39</td>\n",
       "      <td>58</td>\n",
       "      <td>2016</td>\n",
       "      <td>10</td>\n",
       "      <td>0.79</td>\n",
       "      <td>11</td>\n",
       "      <td>0</td>\n",
       "      <td>0</td>\n",
       "      <td>1</td>\n",
       "      <td>0</td>\n",
       "      <td>...</td>\n",
       "      <td>0</td>\n",
       "      <td>0</td>\n",
       "      <td>0</td>\n",
       "      <td>0</td>\n",
       "      <td>1</td>\n",
       "      <td>0</td>\n",
       "      <td>0</td>\n",
       "      <td>0</td>\n",
       "      <td>0</td>\n",
       "      <td>1</td>\n",
       "    </tr>\n",
       "  </tbody>\n",
       "</table>\n",
       "<p>5 rows × 32 columns</p>\n",
       "</div>"
      ],
      "text/plain": [
       "   Age in Yrs.  Weight in Kgs.  Year of Joining  Month of Joining  \\\n",
       "0        45.66              44             2010                12   \n",
       "1        23.76              52             2017                 4   \n",
       "2        22.68              42             2017                 3   \n",
       "3        41.70              43             2003                 2   \n",
       "4        22.39              58             2016                10   \n",
       "\n",
       "   Age in Company (Years)  Last % Hike  Dr.  Drs.  Hon.  Mr.  ...  Mr.  Mrs.  \\\n",
       "0                    6.61           17    0     0     0    0  ...    0     0   \n",
       "1                    0.26           14    0     0     0    1  ...    1     0   \n",
       "2                    0.34           28    0     1     0    0  ...    0     0   \n",
       "3                   14.43           16    0     0     0    0  ...    0     1   \n",
       "4                    0.79           11    0     0     1    0  ...    0     0   \n",
       "\n",
       "   Ms.  Prof.  F  M  Midwest  Northeast  South  West  \n",
       "0    1      0  1  0        0          0      0     1  \n",
       "1    0      0  0  1        1          0      0     0  \n",
       "2    0      0  1  0        0          0      1     0  \n",
       "3    0      0  1  0        1          0      0     0  \n",
       "4    0      0  1  0        0          0      0     1  \n",
       "\n",
       "[5 rows x 32 columns]"
      ]
     },
     "execution_count": 66,
     "metadata": {},
     "output_type": "execute_result"
    }
   ],
   "source": [
    "X = x.values\n",
    "x.head()"
   ]
  },
  {
   "cell_type": "markdown",
   "metadata": {},
   "source": [
    "#### Model Building and Prediction "
   ]
  },
  {
   "cell_type": "code",
   "execution_count": 69,
   "metadata": {},
   "outputs": [],
   "source": [
    "X_train, X_test, y_train, y_test = train_test_split(X,y,test_size=0.30,random_state=0)  # Dividing Train and Test"
   ]
  },
  {
   "cell_type": "code",
   "execution_count": 71,
   "metadata": {},
   "outputs": [
    {
     "data": {
      "text/plain": [
       "(700, 32)"
      ]
     },
     "execution_count": 71,
     "metadata": {},
     "output_type": "execute_result"
    }
   ],
   "source": [
    "X_train.shape"
   ]
  },
  {
   "cell_type": "code",
   "execution_count": 76,
   "metadata": {},
   "outputs": [
    {
     "data": {
      "text/plain": [
       "(300, 32)"
      ]
     },
     "execution_count": 76,
     "metadata": {},
     "output_type": "execute_result"
    }
   ],
   "source": [
    "X_test.shape"
   ]
  },
  {
   "cell_type": "code",
   "execution_count": 79,
   "metadata": {},
   "outputs": [],
   "source": [
    "# model initialization\n",
    "regression_model = LinearRegression()\n",
    "# fit the data(train the model)\n",
    "regression_model.fit(X_train, y_train)\n",
    "# predict\n",
    "y_predicted = regression_model.predict(X_test)"
   ]
  },
  {
   "cell_type": "code",
   "execution_count": 80,
   "metadata": {},
   "outputs": [],
   "source": [
    "# model evaluation\n",
    "rmse = mean_squared_error(y_test, y_predicted)\n",
    "r2 = r2_score(y_test, y_predicted)"
   ]
  },
  {
   "cell_type": "code",
   "execution_count": 82,
   "metadata": {},
   "outputs": [
    {
     "data": {
      "text/plain": [
       "-0.07500255494822339"
      ]
     },
     "execution_count": 82,
     "metadata": {},
     "output_type": "execute_result"
    }
   ],
   "source": [
    "r2"
   ]
  },
  {
   "cell_type": "markdown",
   "metadata": {},
   "source": [
    "### Negative r2 score indicates that the attributes in employee 1000 dataset were not suitable for prediction of Salary or the Data might be still not enough to give salary prediction"
   ]
  },
  {
   "cell_type": "markdown",
   "metadata": {},
   "source": [
    "It was evident before also from the heatmap of co-relation between the Attributes"
   ]
  },
  {
   "cell_type": "code",
   "execution_count": 83,
   "metadata": {},
   "outputs": [
    {
     "data": {
      "text/plain": [
       "<matplotlib.axes._subplots.AxesSubplot at 0x1d2f12df880>"
      ]
     },
     "execution_count": 83,
     "metadata": {},
     "output_type": "execute_result"
    },
    {
     "data": {
      "image/png": "[encoded data removed]",
      "text/plain": [
       "<Figure size 432x288 with 2 Axes>"
      ]
     },
     "metadata": {
      "needs_background": "light"
     },
     "output_type": "display_data"
    }
   ],
   "source": [
    "sns.heatmap(datacorr)"
   ]
  },
  {
   "cell_type": "markdown",
   "metadata": {},
   "source": [
    "No column indicated proper co-relation with the Salary"
   ]
  },
  {
   "cell_type": "code",
   "execution_count": null,
   "metadata": {},
   "outputs": [],
   "source": []
  }
 ],
 "metadata": {
  "kernelspec": {
   "display_name": "Python 3",
   "language": "python",
   "name": "python3"
  },
  "language_info": {
   "codemirror_mode": {
    "name": "ipython",
    "version": 3
   },
   "file_extension": ".py",
   "mimetype": "text/x-python",
   "name": "python",
   "nbconvert_exporter": "python",
   "pygments_lexer": "ipython3",
   "version": "3.8.3"
  }
 },
 "nbformat": 4,
 "nbformat_minor": 4
}
